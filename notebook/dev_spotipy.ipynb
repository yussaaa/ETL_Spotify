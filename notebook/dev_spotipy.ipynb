{
 "cells": [
  {
   "cell_type": "markdown",
   "metadata": {},
   "source": [
    "# Spotipy development notebook \n",
    "\n",
    "This notebook does the following: \n",
    "1. Connect and Call spotify API\n",
    "    * Authentication to the Spotify API\n",
    "    * Extracting the refresh TOEKN from Spotify server\n",
    "    * Call spotify API to get recently played / specific playlist\n",
    "2. Format to df\n",
    "3. Save to local sqlite3 or parquet"
   ]
  },
  {
   "cell_type": "code",
   "execution_count": 1,
   "metadata": {},
   "outputs": [],
   "source": [
    "import json\n",
    "import os\n",
    "import spotipy\n",
    "from spotipy.oauth2 import SpotifyClientCredentials, SpotifyOAuth\n",
    "from datetime import datetime\n",
    "import pandas as pd\n",
    "\n",
    "from dotenv import load_dotenv"
   ]
  },
  {
   "cell_type": "code",
   "execution_count": 6,
   "metadata": {},
   "outputs": [],
   "source": [
    "# Read the environment variables\n",
    "load_dotenv()\n",
    "\n",
    "client_id = os.getenv(\"CLIENT_ID\")\n",
    "client_secret = os.getenv(\"CLIENT_SECRET\")"
   ]
  },
  {
   "cell_type": "markdown",
   "metadata": {},
   "source": [
    "## Connect and Call spotify API"
   ]
  },
  {
   "cell_type": "markdown",
   "metadata": {},
   "source": [
    "### a) Authentication to the Spotify API"
   ]
  },
  {
   "cell_type": "code",
   "execution_count": 3,
   "metadata": {},
   "outputs": [],
   "source": [
    "# Define the desired scopes as a list\n",
    "scopes = [\"user-read-recently-played\", \"user-library-read\"]\n",
    "\n",
    "# Initialize the SpotifyOAuth object with your client ID, client secret, and desired scopes\n",
    "sp_oauth = SpotifyOAuth(\n",
    "    client_id=client_id,\n",
    "    client_secret=client_secret,\n",
    "    redirect_uri='http://localhost:8888/callback',\n",
    "    scope=' '.join(scopes)\n",
    ")\n",
    "\n",
    "# # # Generate the authorization URL\n",
    "# auth_url = sp_oauth.get_authorize_url()\n",
    "\n",
    "# # Redirect the user to the generated auth_url to start the authorization process\n",
    "# print(f\"Click the following link to authorize your application: {auth_url}\")"
   ]
  },
  {
   "cell_type": "code",
   "execution_count": null,
   "metadata": {},
   "outputs": [],
   "source": [
    "# client_credentials_manager = SpotifyClientCredentials(client_id=client_id, client_secret=client_secret)\n",
    "# sp = spotipy.Spotify(client_credentials_manager = client_credentials_manager)\n",
    "sp = spotipy.Spotify(client_credentials_manager = sp_oauth)"
   ]
  },
  {
   "cell_type": "markdown",
   "metadata": {},
   "source": [
    "### b) Extracting the refresh TOEKN from Spotify server"
   ]
  },
  {
   "cell_type": "code",
   "execution_count": 5,
   "metadata": {},
   "outputs": [
    {
     "name": "stderr",
     "output_type": "stream",
     "text": [
      "/var/folders/0x/3ms0bnbn6196rf0m4bwzwdrm0000gn/T/ipykernel_17497/3576782162.py:2: DeprecationWarning: You're using 'as_dict = True'.get_access_token will return the token string directly in future versions. Please adjust your code accordingly, or use get_cached_token instead.\n",
      "  token_info = sp_oauth.get_access_token(as_dict=True)\n"
     ]
    }
   ],
   "source": [
    "# Get the access token\n",
    "token_info = sp_oauth.get_access_token(as_dict=True)\n",
    "\n",
    "# The refresh token is available in the token_info dictionary\n",
    "refresh_token = token_info['refresh_token']"
   ]
  },
  {
   "cell_type": "markdown",
   "metadata": {},
   "source": [
    "### c) Call spotify API to get recently played / specific playlist"
   ]
  },
  {
   "cell_type": "code",
   "execution_count": 10,
   "metadata": {},
   "outputs": [],
   "source": [
    "# GET the recently played tracks\n",
    "recently_played = sp.current_user_recently_played()"
   ]
  },
  {
   "cell_type": "code",
   "execution_count": null,
   "metadata": {},
   "outputs": [],
   "source": [
    "#Extract playlist data\n",
    "playlists = sp.user_playlists('spotify')\n",
    "playlist_link = \"https://open.spotify.com/playlist/37i9dQZEVXcDYGt49X0ozW\"\n",
    "playlist_URI = playlist_link.split(\"/\")[-1].split(\"?\")[0]\n",
    "\n",
    "spotify_data = sp.playlist_tracks(playlist_URI)   "
   ]
  },
  {
   "cell_type": "markdown",
   "metadata": {},
   "source": [
    "## Format to df"
   ]
  },
  {
   "cell_type": "code",
   "execution_count": 11,
   "metadata": {},
   "outputs": [],
   "source": [
    "## Save the json to df\n",
    "\n",
    "song_names = []\n",
    "artist_names = []\n",
    "played_at_list = []\n",
    "timestamps = []\n",
    "\n",
    "# Extracting only the relevant bits of data from the json object      \n",
    "for song in recently_played[\"items\"]:\n",
    "    song_names.append(song[\"track\"][\"name\"])\n",
    "    artist_names.append(song[\"track\"][\"album\"][\"artists\"][0][\"name\"])\n",
    "    played_at_list.append(song[\"played_at\"])\n",
    "    timestamps.append(song[\"played_at\"][0:10])\n",
    "    \n",
    "# Prepare a dictionary in order to turn it into a pandas dataframe below       \n",
    "song_dict = {\n",
    "    \"song_name\" : song_names,\n",
    "    \"artist_name\": artist_names,\n",
    "    \"played_at\" : played_at_list,\n",
    "    \"timestamp\" : timestamps\n",
    "}\n",
    "\n",
    "song_df = pd.DataFrame(song_dict, columns = [\"song_name\", \"artist_name\", \"played_at\", \"timestamp\"])"
   ]
  },
  {
   "cell_type": "code",
   "execution_count": 12,
   "metadata": {},
   "outputs": [
    {
     "data": {
      "text/html": [
       "<div>\n",
       "<style scoped>\n",
       "    .dataframe tbody tr th:only-of-type {\n",
       "        vertical-align: middle;\n",
       "    }\n",
       "\n",
       "    .dataframe tbody tr th {\n",
       "        vertical-align: top;\n",
       "    }\n",
       "\n",
       "    .dataframe thead th {\n",
       "        text-align: right;\n",
       "    }\n",
       "</style>\n",
       "<table border=\"1\" class=\"dataframe\">\n",
       "  <thead>\n",
       "    <tr style=\"text-align: right;\">\n",
       "      <th></th>\n",
       "      <th>song_name</th>\n",
       "      <th>artist_name</th>\n",
       "      <th>played_at</th>\n",
       "      <th>timestamp</th>\n",
       "    </tr>\n",
       "  </thead>\n",
       "  <tbody>\n",
       "    <tr>\n",
       "      <th>0</th>\n",
       "      <td>Somebody Said</td>\n",
       "      <td>Buchs</td>\n",
       "      <td>2023-10-24T19:04:08.449Z</td>\n",
       "      <td>2023-10-24</td>\n",
       "    </tr>\n",
       "    <tr>\n",
       "      <th>1</th>\n",
       "      <td>5 feet away</td>\n",
       "      <td>rayn</td>\n",
       "      <td>2023-10-24T19:02:05.727Z</td>\n",
       "      <td>2023-10-24</td>\n",
       "    </tr>\n",
       "    <tr>\n",
       "      <th>2</th>\n",
       "      <td>Lonely</td>\n",
       "      <td>Paul Schulze</td>\n",
       "      <td>2023-10-24T18:58:52.523Z</td>\n",
       "      <td>2023-10-24</td>\n",
       "    </tr>\n",
       "    <tr>\n",
       "      <th>3</th>\n",
       "      <td>I Like Me Better</td>\n",
       "      <td>EFA</td>\n",
       "      <td>2023-10-24T18:56:38.735Z</td>\n",
       "      <td>2023-10-24</td>\n",
       "    </tr>\n",
       "    <tr>\n",
       "      <th>4</th>\n",
       "      <td>On Me</td>\n",
       "      <td>Van Herpen</td>\n",
       "      <td>2023-10-24T18:51:33.512Z</td>\n",
       "      <td>2023-10-24</td>\n",
       "    </tr>\n",
       "  </tbody>\n",
       "</table>\n",
       "</div>"
      ],
      "text/plain": [
       "          song_name   artist_name                 played_at   timestamp\n",
       "0     Somebody Said         Buchs  2023-10-24T19:04:08.449Z  2023-10-24\n",
       "1       5 feet away          rayn  2023-10-24T19:02:05.727Z  2023-10-24\n",
       "2            Lonely  Paul Schulze  2023-10-24T18:58:52.523Z  2023-10-24\n",
       "3  I Like Me Better           EFA  2023-10-24T18:56:38.735Z  2023-10-24\n",
       "4             On Me    Van Herpen  2023-10-24T18:51:33.512Z  2023-10-24"
      ]
     },
     "execution_count": 12,
     "metadata": {},
     "output_type": "execute_result"
    }
   ],
   "source": [
    "song_df.head()"
   ]
  },
  {
   "cell_type": "markdown",
   "metadata": {},
   "source": [
    "## Save to local sqlite3 or parquet"
   ]
  },
  {
   "cell_type": "code",
   "execution_count": 16,
   "metadata": {},
   "outputs": [
    {
     "name": "stdout",
     "output_type": "stream",
     "text": [
      "Database path: /Users/yusali/dev/ETL_Spotify/notebook/spotify.db\n"
     ]
    }
   ],
   "source": [
    "import sqlite3\n",
    "\n",
    "conn = sqlite3.connect('spotify.db')\n",
    "cursor = conn.cursor()\n",
    "\n",
    "# # Get the path to the database file\n",
    "# cursor.execute(\"PRAGMA database_list;\")\n",
    "# database_path = cursor.fetchone()[2]\n",
    "\n",
    "# print(\"Database path:\", database_path)\n",
    "\n",
    "# Use the to_sql method to write the DataFrame to a new table in the database\n",
    "table_name = 'recently_played'  # Name for the new table in the database\n",
    "song_df.to_sql(table_name, conn, if_exists='replace', index=False)\n",
    "\n",
    "# Close the database connection\n",
    "conn.close()"
   ]
  },
  {
   "cell_type": "code",
   "execution_count": 18,
   "metadata": {},
   "outputs": [],
   "source": [
    "conn = sqlite3.connect('spotify.db')\n",
    "df = pd.read_sql('select * from {}'.format(table_name), conn)\n",
    "conn.close()"
   ]
  },
  {
   "cell_type": "code",
   "execution_count": 25,
   "metadata": {},
   "outputs": [],
   "source": [
    "df.to_parquet('../data/recently_payed.parquet', partition_cols=['timestamp', 'artist_name'])"
   ]
  }
 ],
 "metadata": {
  "kernelspec": {
   "display_name": "ETL",
   "language": "python",
   "name": "python3"
  },
  "language_info": {
   "codemirror_mode": {
    "name": "ipython",
    "version": 3
   },
   "file_extension": ".py",
   "mimetype": "text/x-python",
   "name": "python",
   "nbconvert_exporter": "python",
   "pygments_lexer": "ipython3",
   "version": "3.10.12"
  }
 },
 "nbformat": 4,
 "nbformat_minor": 2
}
