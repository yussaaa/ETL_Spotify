{
 "cells": [
  {
   "cell_type": "code",
   "execution_count": 1,
   "metadata": {},
   "outputs": [],
   "source": [
    "import json\n",
    "import os\n",
    "import spotipy\n",
    "from spotipy.oauth2 import SpotifyClientCredentials, SpotifyOAuth\n",
    "# import boto3\n",
    "from datetime import datetime\n",
    "\n",
    "from dotenv import load_dotenv\n",
    "\n",
    "import pandas as pd"
   ]
  },
  {
   "cell_type": "code",
   "execution_count": 2,
   "metadata": {},
   "outputs": [
    {
     "data": {
      "text/plain": [
       "True"
      ]
     },
     "execution_count": 2,
     "metadata": {},
     "output_type": "execute_result"
    }
   ],
   "source": [
    "load_dotenv()\n",
    "\n",
    "\n",
    "client_id = os.getenv(\"CLIENT_ID\")\n",
    "client_secret = os.getenv(\"CLIENT_SECRET\")\n",
    "\n",
    "scope = \"user-read-recently-played\""
   ]
  },
  {
   "cell_type": "code",
   "execution_count": 4,
   "metadata": {},
   "outputs": [
    {
     "name": "stdout",
     "output_type": "stream",
     "text": [
      "Click the following link to authorize your application: https://accounts.spotify.com/authorize?client_id=20c0bbcdf29241b39fd44c8a912827ad&response_type=code&redirect_uri=http%3A%2F%2Flocalhost%3A8888%2Fcallback&scope=user-read-recently-played+user-library-read\n"
     ]
    }
   ],
   "source": [
    "import spotipy\n",
    "from spotipy.oauth2 import SpotifyOAuth\n",
    "\n",
    "# Define the desired scopes as a list\n",
    "scopes = [\"user-read-recently-played\", \"user-library-read\"]\n",
    "\n",
    "# Initialize the SpotifyOAuth object with your client ID, client secret, and desired scopes\n",
    "sp_oauth = SpotifyOAuth(\n",
    "    client_id=client_id,\n",
    "    client_secret=client_secret,\n",
    "    redirect_uri='http://localhost:8888/callback',\n",
    "    scope=' '.join(scopes)\n",
    ")\n",
    "\n",
    "# # # Generate the authorization URL\n",
    "# auth_url = sp_oauth.get_authorize_url()\n",
    "\n",
    "# # Redirect the user to the generated auth_url to start the authorization process\n",
    "# print(f\"Click the following link to authorize your application: {auth_url}\")\n",
    "\n",
    "sp = spotipy.Spotify(client_credentials_manager = sp_oauth)"
   ]
  },
  {
   "cell_type": "code",
   "execution_count": 11,
   "metadata": {},
   "outputs": [],
   "source": [
    "# GET the recently played tracks\n",
    "recently_played = sp.current_user_recently_played()"
   ]
  },
  {
   "cell_type": "code",
   "execution_count": 12,
   "metadata": {},
   "outputs": [],
   "source": [
    "## Save the json to df\n",
    "\n",
    "song_names = []\n",
    "artist_names = []\n",
    "played_at_list = []\n",
    "timestamps = []\n",
    "\n",
    "# Extracting only the relevant bits of data from the json object      \n",
    "for song in recently_played[\"items\"]:\n",
    "    song_names.append(song[\"track\"][\"name\"])\n",
    "    artist_names.append(song[\"track\"][\"album\"][\"artists\"][0][\"name\"])\n",
    "    played_at_list.append(song[\"played_at\"])\n",
    "    timestamps.append(song[\"played_at\"][0:10])\n",
    "    \n",
    "# Prepare a dictionary in order to turn it into a pandas dataframe below       \n",
    "song_dict = {\n",
    "    \"song_name\" : song_names,\n",
    "    \"artist_name\": artist_names,\n",
    "    \"played_at\" : played_at_list,\n",
    "    \"timestamp\" : timestamps\n",
    "}\n",
    "\n",
    "song_df = pd.DataFrame(song_dict, columns = [\"song_name\", \"artist_name\", \"played_at\", \"timestamp\"])"
   ]
  },
  {
   "cell_type": "code",
   "execution_count": 13,
   "metadata": {},
   "outputs": [
    {
     "data": {
      "text/html": [
       "<div>\n",
       "<style scoped>\n",
       "    .dataframe tbody tr th:only-of-type {\n",
       "        vertical-align: middle;\n",
       "    }\n",
       "\n",
       "    .dataframe tbody tr th {\n",
       "        vertical-align: top;\n",
       "    }\n",
       "\n",
       "    .dataframe thead th {\n",
       "        text-align: right;\n",
       "    }\n",
       "</style>\n",
       "<table border=\"1\" class=\"dataframe\">\n",
       "  <thead>\n",
       "    <tr style=\"text-align: right;\">\n",
       "      <th></th>\n",
       "      <th>song_name</th>\n",
       "      <th>artist_name</th>\n",
       "      <th>played_at</th>\n",
       "      <th>timestamp</th>\n",
       "    </tr>\n",
       "  </thead>\n",
       "  <tbody>\n",
       "    <tr>\n",
       "      <th>0</th>\n",
       "      <td>This Moment</td>\n",
       "      <td>DVBBS</td>\n",
       "      <td>2023-10-15T23:42:39.220Z</td>\n",
       "      <td>2023-10-15</td>\n",
       "    </tr>\n",
       "    <tr>\n",
       "      <th>1</th>\n",
       "      <td>Strangers</td>\n",
       "      <td>Kenya Grace</td>\n",
       "      <td>2023-10-15T23:40:23.343Z</td>\n",
       "      <td>2023-10-15</td>\n",
       "    </tr>\n",
       "    <tr>\n",
       "      <th>2</th>\n",
       "      <td>More Baby</td>\n",
       "      <td>Chris Lake</td>\n",
       "      <td>2023-10-15T23:37:45.929Z</td>\n",
       "      <td>2023-10-15</td>\n",
       "    </tr>\n",
       "    <tr>\n",
       "      <th>3</th>\n",
       "      <td>Atmosphere</td>\n",
       "      <td>FISHER</td>\n",
       "      <td>2023-10-15T23:34:03.921Z</td>\n",
       "      <td>2023-10-15</td>\n",
       "    </tr>\n",
       "    <tr>\n",
       "      <th>4</th>\n",
       "      <td>Real Love</td>\n",
       "      <td>Martin Garrix</td>\n",
       "      <td>2023-10-15T23:31:04.684Z</td>\n",
       "      <td>2023-10-15</td>\n",
       "    </tr>\n",
       "  </tbody>\n",
       "</table>\n",
       "</div>"
      ],
      "text/plain": [
       "     song_name    artist_name                 played_at   timestamp\n",
       "0  This Moment          DVBBS  2023-10-15T23:42:39.220Z  2023-10-15\n",
       "1    Strangers    Kenya Grace  2023-10-15T23:40:23.343Z  2023-10-15\n",
       "2    More Baby     Chris Lake  2023-10-15T23:37:45.929Z  2023-10-15\n",
       "3   Atmosphere         FISHER  2023-10-15T23:34:03.921Z  2023-10-15\n",
       "4    Real Love  Martin Garrix  2023-10-15T23:31:04.684Z  2023-10-15"
      ]
     },
     "execution_count": 13,
     "metadata": {},
     "output_type": "execute_result"
    }
   ],
   "source": [
    "song_df.head()"
   ]
  },
  {
   "cell_type": "code",
   "execution_count": null,
   "metadata": {},
   "outputs": [],
   "source": []
  },
  {
   "cell_type": "code",
   "execution_count": 14,
   "metadata": {},
   "outputs": [],
   "source": [
    "#Extract playlist data\n",
    "\n",
    "playlists = sp.user_playlists('spotify')\n",
    "playlist_link = \"https://open.spotify.com/playlist/37i9dQZEVXcDYGt49X0ozW\"\n",
    "playlist_URI = playlist_link.split(\"/\")[-1].split(\"?\")[0]\n",
    "\n",
    "spotify_data = sp.playlist_tracks(playlist_URI)   "
   ]
  },
  {
   "cell_type": "code",
   "execution_count": 16,
   "metadata": {},
   "outputs": [
    {
     "name": "stdout",
     "output_type": "stream",
     "text": [
      "Database path: /Users/yusali/dev/ETL_Spotify/notebook/spotify.db\n"
     ]
    }
   ],
   "source": [
    "import sqlite3\n",
    "\n",
    "conn = sqlite3.connect('spotify.db')\n",
    "cursor = conn.cursor()\n",
    "\n",
    "# # Get the path to the database file\n",
    "# cursor.execute(\"PRAGMA database_list;\")\n",
    "# database_path = cursor.fetchone()[2]\n",
    "\n",
    "# print(\"Database path:\", database_path)\n",
    "\n",
    "# Use the to_sql method to write the DataFrame to a new table in the database\n",
    "table_name = 'recently_played'  # Name for the new table in the database\n",
    "song_df.to_sql(table_name, conn, if_exists='replace', index=False)\n",
    "\n",
    "# Close the database connection\n",
    "conn.close()"
   ]
  },
  {
   "cell_type": "code",
   "execution_count": 18,
   "metadata": {},
   "outputs": [],
   "source": [
    "conn = sqlite3.connect('spotify.db')\n",
    "df = pd.read_sql('select * from {}'.format(table_name), conn)\n",
    "conn.close()"
   ]
  },
  {
   "cell_type": "code",
   "execution_count": null,
   "metadata": {},
   "outputs": [],
   "source": []
  }
 ],
 "metadata": {
  "kernelspec": {
   "display_name": "ETL",
   "language": "python",
   "name": "python3"
  },
  "language_info": {
   "codemirror_mode": {
    "name": "ipython",
    "version": 3
   },
   "file_extension": ".py",
   "mimetype": "text/x-python",
   "name": "python",
   "nbconvert_exporter": "python",
   "pygments_lexer": "ipython3",
   "version": "3.10.12"
  }
 },
 "nbformat": 4,
 "nbformat_minor": 2
}
