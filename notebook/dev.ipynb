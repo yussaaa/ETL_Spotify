{
 "cells": [
  {
   "cell_type": "code",
   "execution_count": 88,
   "metadata": {},
   "outputs": [
    {
     "data": {
      "text/plain": [
       "True"
      ]
     },
     "execution_count": 88,
     "metadata": {},
     "output_type": "execute_result"
    }
   ],
   "source": [
    "import sqlalchemy\n",
    "import pandas as pd \n",
    "from sqlalchemy.orm import sessionmaker\n",
    "import requests\n",
    "import json\n",
    "from datetime import datetime\n",
    "import datetime\n",
    "import sqlite3\n",
    "\n",
    "import os\n",
    "from dotenv import load_dotenv\n",
    "load_dotenv()\n"
   ]
  },
  {
   "cell_type": "code",
   "execution_count": 89,
   "metadata": {},
   "outputs": [],
   "source": [
    "DATABASE_LOCATION = \"sqlite:///my_played_tracks.sqlite\"\n",
    "CLIENT_ID = os.getenv(\"CLIENT_ID\") # your Spotify username \n",
    "TOKEN = \"\" # your Spotify API token"
   ]
  },
  {
   "cell_type": "code",
   "execution_count": 80,
   "metadata": {},
   "outputs": [],
   "source": [
    "headers = {\n",
    "        # \"Accept\" : \"application/json\",\n",
    "        # \"Content-Type\" : \"application/json\",\n",
    "        \"Authorization\" : \"Bearer {token}\".format(token=TOKEN)\n",
    "    }\n",
    "    \n",
    "# Convert time to Unix timestamp in miliseconds      \n",
    "today = datetime.datetime.now()\n",
    "yesterday = today - datetime.timedelta(days=2)\n",
    "yesterday_unix_timestamp = int(yesterday.timestamp()) * 1000\n",
    "\n",
    "# Download all songs you've listened to \"after yesterday\", which means in the last 24 hours      \n",
    "r = requests.get(\"https://api.spotify.com/v1/me/player/recently-played?after={time}\".format(time=yesterday_unix_timestamp), headers = headers)\n",
    "\n",
    "data = r.json()"
   ]
  },
  {
   "cell_type": "code",
   "execution_count": 81,
   "metadata": {},
   "outputs": [
    {
     "data": {
      "text/plain": [
       "{'error': {'status': 500, 'message': 'Server error.'}}"
      ]
     },
     "execution_count": 81,
     "metadata": {},
     "output_type": "execute_result"
    }
   ],
   "source": [
    "data"
   ]
  },
  {
   "cell_type": "code",
   "execution_count": 82,
   "metadata": {},
   "outputs": [],
   "source": [
    "r = requests.get(\"https://api.spotify.com/v1/me/player/currently-playing\", headers = headers)\n",
    "\n",
    "data = r.json()"
   ]
  },
  {
   "cell_type": "code",
   "execution_count": 83,
   "metadata": {},
   "outputs": [
    {
     "data": {
      "text/plain": [
       "{'error': {'status': 404, 'message': 'Invalid username'}}"
      ]
     },
     "execution_count": 83,
     "metadata": {},
     "output_type": "execute_result"
    }
   ],
   "source": [
    "data"
   ]
  },
  {
   "cell_type": "code",
   "execution_count": 37,
   "metadata": {},
   "outputs": [
    {
     "data": {
      "text/plain": [
       "<Response [200]>"
      ]
     },
     "execution_count": 37,
     "metadata": {},
     "output_type": "execute_result"
    }
   ],
   "source": [
    "r"
   ]
  },
  {
   "cell_type": "code",
   "execution_count": 84,
   "metadata": {},
   "outputs": [],
   "source": [
    "SPOTIFY_GET_CURRENT_TRACK_URL = 'https://api.spotify.com/v1/me/player/currently-playing'\n",
    "ACCESS_TOKEN = ''"
   ]
  },
  {
   "cell_type": "code",
   "execution_count": 86,
   "metadata": {},
   "outputs": [
    {
     "ename": "KeyError",
     "evalue": "'item'",
     "output_type": "error",
     "traceback": [
      "\u001b[0;31m---------------------------------------------------------------------------\u001b[0m",
      "\u001b[0;31mKeyError\u001b[0m                                  Traceback (most recent call last)",
      "\u001b[1;32m/Users/yusali/dev/ETL_Spotify/notebook/dev.ipynb Cell 9\u001b[0m line \u001b[0;36m1\n\u001b[1;32m      <a href='vscode-notebook-cell:/Users/yusali/dev/ETL_Spotify/notebook/dev.ipynb#X10sZmlsZQ%3D%3D?line=2'>3</a>\u001b[0m response \u001b[39m=\u001b[39m requests\u001b[39m.\u001b[39mget(\n\u001b[1;32m      <a href='vscode-notebook-cell:/Users/yusali/dev/ETL_Spotify/notebook/dev.ipynb#X10sZmlsZQ%3D%3D?line=3'>4</a>\u001b[0m     SPOTIFY_GET_CURRENT_TRACK_URL,\n\u001b[1;32m      <a href='vscode-notebook-cell:/Users/yusali/dev/ETL_Spotify/notebook/dev.ipynb#X10sZmlsZQ%3D%3D?line=4'>5</a>\u001b[0m     headers\u001b[39m=\u001b[39m{\n\u001b[1;32m      <a href='vscode-notebook-cell:/Users/yusali/dev/ETL_Spotify/notebook/dev.ipynb#X10sZmlsZQ%3D%3D?line=5'>6</a>\u001b[0m         \u001b[39m\"\u001b[39m\u001b[39mAuthorization\u001b[39m\u001b[39m\"\u001b[39m: \u001b[39mf\u001b[39m\u001b[39m\"\u001b[39m\u001b[39mBearer \u001b[39m\u001b[39m{\u001b[39;00maccess_token\u001b[39m}\u001b[39;00m\u001b[39m\"\u001b[39m\n\u001b[1;32m      <a href='vscode-notebook-cell:/Users/yusali/dev/ETL_Spotify/notebook/dev.ipynb#X10sZmlsZQ%3D%3D?line=6'>7</a>\u001b[0m     }\n\u001b[1;32m      <a href='vscode-notebook-cell:/Users/yusali/dev/ETL_Spotify/notebook/dev.ipynb#X10sZmlsZQ%3D%3D?line=7'>8</a>\u001b[0m )\n\u001b[1;32m      <a href='vscode-notebook-cell:/Users/yusali/dev/ETL_Spotify/notebook/dev.ipynb#X10sZmlsZQ%3D%3D?line=8'>9</a>\u001b[0m json_resp \u001b[39m=\u001b[39m response\u001b[39m.\u001b[39mjson()\n\u001b[0;32m---> <a href='vscode-notebook-cell:/Users/yusali/dev/ETL_Spotify/notebook/dev.ipynb#X10sZmlsZQ%3D%3D?line=10'>11</a>\u001b[0m track_id \u001b[39m=\u001b[39m json_resp[\u001b[39m'\u001b[39;49m\u001b[39mitem\u001b[39;49m\u001b[39m'\u001b[39;49m][\u001b[39m'\u001b[39m\u001b[39mid\u001b[39m\u001b[39m'\u001b[39m]\n\u001b[1;32m     <a href='vscode-notebook-cell:/Users/yusali/dev/ETL_Spotify/notebook/dev.ipynb#X10sZmlsZQ%3D%3D?line=11'>12</a>\u001b[0m track_name \u001b[39m=\u001b[39m json_resp[\u001b[39m'\u001b[39m\u001b[39mitem\u001b[39m\u001b[39m'\u001b[39m][\u001b[39m'\u001b[39m\u001b[39mname\u001b[39m\u001b[39m'\u001b[39m]\n\u001b[1;32m     <a href='vscode-notebook-cell:/Users/yusali/dev/ETL_Spotify/notebook/dev.ipynb#X10sZmlsZQ%3D%3D?line=12'>13</a>\u001b[0m artists \u001b[39m=\u001b[39m [artist \u001b[39mfor\u001b[39;00m artist \u001b[39min\u001b[39;00m json_resp[\u001b[39m'\u001b[39m\u001b[39mitem\u001b[39m\u001b[39m'\u001b[39m][\u001b[39m'\u001b[39m\u001b[39martists\u001b[39m\u001b[39m'\u001b[39m]]\n",
      "\u001b[0;31mKeyError\u001b[0m: 'item'"
     ]
    }
   ],
   "source": [
    "access_token = ACCESS_TOKEN\n",
    "\n",
    "response = requests.get(\n",
    "    SPOTIFY_GET_CURRENT_TRACK_URL,\n",
    "    headers={\n",
    "        \"Authorization\": f\"Bearer {access_token}\"\n",
    "    }\n",
    ")\n",
    "json_resp = response.json()\n",
    "\n",
    "track_id = json_resp['item']['id']\n",
    "track_name = json_resp['item']['name']\n",
    "artists = [artist for artist in json_resp['item']['artists']]\n",
    "\n",
    "link = json_resp['item']['external_urls']['spotify']\n",
    "\n",
    "artist_names = ', '.join([artist['name'] for artist in artists])\n",
    "\n",
    "current_track_info = {\n",
    "    \"id\": track_id,\n",
    "    \"track_name\": track_name,\n",
    "    \"artists\": artist_names,\n",
    "    \"link\": link\n",
    "}"
   ]
  },
  {
   "cell_type": "code",
   "execution_count": 87,
   "metadata": {},
   "outputs": [
    {
     "data": {
      "text/plain": [
       "{'error': {'status': 404, 'message': 'Invalid username'}}"
      ]
     },
     "execution_count": 87,
     "metadata": {},
     "output_type": "execute_result"
    }
   ],
   "source": [
    "json_resp"
   ]
  },
  {
   "cell_type": "code",
   "execution_count": null,
   "metadata": {},
   "outputs": [],
   "source": []
  }
 ],
 "metadata": {
  "kernelspec": {
   "display_name": "ETL",
   "language": "python",
   "name": "python3"
  },
  "language_info": {
   "codemirror_mode": {
    "name": "ipython",
    "version": 3
   },
   "file_extension": ".py",
   "mimetype": "text/x-python",
   "name": "python",
   "nbconvert_exporter": "python",
   "pygments_lexer": "ipython3",
   "version": "3.10.12"
  }
 },
 "nbformat": 4,
 "nbformat_minor": 2
}
